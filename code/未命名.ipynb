{
 "cells": [
  {
   "cell_type": "code",
   "execution_count": 19,
   "metadata": {},
   "outputs": [
    {
     "name": "stdout",
     "output_type": "stream",
     "text": [
      "/home/cad429/code/data/train_label_masks\n"
     ]
    }
   ],
   "source": [
    "import cv2\n",
    "import numpy as np\n",
    "import os\n",
    "import openslide\n",
    "from PIL import Image\n",
    "dir='/home/cad429/code/data'\n",
    "train_dir=os.path.join(dir,'train_images')\n",
    "train_mask_dir=os.path.join(dir,'train_label_masks')\n",
    "print(train_mask_dir)\n",
    "\n"
   ]
  },
  {
   "cell_type": "code",
   "execution_count": 8,
   "metadata": {},
   "outputs": [
    {
     "name": "stdout",
     "output_type": "stream",
     "text": [
      "/home/cad429/code/data/train_images/e7db63dae4f1dbcfe945651219d34674.tiff\n",
      "/home/cad429/code/data/train_label_masks/e7db63dae4f1dbcfe945651219d34674.tiff\n"
     ]
    }
   ],
   "source": [
    "#数据来源为radboud的一个数据的地址，切割该图片\n",
    "# test_Image=os.path.join(train_dir,'e7db63dae4f1dbcfe945651219d34674'+'.tiff')\n",
    "# test_label=os.path.join('/home/cad429/code/data/train_label_masks','e7db63dae4f1dbcfe945651219d34674'+'.tiff')\n",
    "# splist_dir='/home/cad429/code/data/splittest'\n",
    "# print(test_Image)\n",
    "# print(test_label)"
   ]
  },
  {
   "cell_type": "code",
   "execution_count": 22,
   "metadata": {},
   "outputs": [],
   "source": [
    "ii=openslide.OpenSlide('/home/cad429/code/data/train_label_masks/0005f7aaab2800f6170c399693a96917_mask.tiff')"
   ]
  },
  {
   "cell_type": "code",
   "execution_count": 23,
   "metadata": {},
   "outputs": [],
   "source": [
    "slide=openslide.OpenSlide('/home/cad429/code/data/train_images/0005f7aaab2800f6170c399693a96917.tiff')"
   ]
  },
  {
   "cell_type": "code",
   "execution_count": 13,
   "metadata": {},
   "outputs": [
    {
     "name": "stdout",
     "output_type": "stream",
     "text": [
      "23552 11776\n"
     ]
    }
   ],
   "source": [
    "\n",
    "IM_rows=slide.dimensions[1] # 图片的高\n",
    "Im_cols=slide.dimensions[0] #图片的宽\n",
    "Image.MAX_IMAGE_PIXELS = None\n",
    "\n",
    "mask_rows=mask.dimensions[1] #mask 的高\n",
    "mask_cols=mask.dimensions[0] # mask的宽\n",
    "#     region=np.array(mask.read_region((0,0),0,(mask_cols,mask_rows)))\n",
    "\n",
    "\n",
    "\n",
    "    print(IM_rows,Im_cols)\n",
    "#     print(region.size())\n",
    "cut('radboud',test_Image,test_label,splist_dir,512,512)"
   ]
  }
 ],
 "metadata": {
  "kernelspec": {
   "display_name": "Python 3",
   "language": "python",
   "name": "python3"
  },
  "language_info": {
   "codemirror_mode": {
    "name": "ipython",
    "version": 3
   },
   "file_extension": ".py",
   "mimetype": "text/x-python",
   "name": "python",
   "nbconvert_exporter": "python",
   "pygments_lexer": "ipython3",
   "version": "3.7.7"
  }
 },
 "nbformat": 4,
 "nbformat_minor": 4
}
