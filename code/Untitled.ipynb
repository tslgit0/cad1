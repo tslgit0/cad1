{
 "cells": [
  {
   "cell_type": "code",
   "execution_count": 2,
   "metadata": {},
   "outputs": [],
   "source": [
    "import numpy as np\n",
    "import pandas as pd\n"
   ]
  },
  {
   "cell_type": "code",
   "execution_count": 3,
   "metadata": {},
   "outputs": [
    {
     "name": "stdout",
     "output_type": "stream",
     "text": [
      "                           image_id data_provider  isup_grade gleason_score\n",
      "0  0005f7aaab2800f6170c399693a96917    karolinska           0           0+0\n",
      "1  000920ad0b612851f8e01bcc880d9b3d    karolinska           0           0+0\n",
      "2  0018ae58b01bdadc8e347995b69f99aa       radboud           4           4+4\n",
      "3  001c62abd11fa4b57bf7a6c603a11bb9    karolinska           4           4+4\n",
      "4  001d865e65ef5d2579c190a0e0350d8f    karolinska           0           0+0\n",
      "test csv\n",
      "                           image_id data_provider\n",
      "0  005700be7e06878e6605e7a5a39de1b2       radboud\n",
      "1  005c6e8877caf724c600fdce5d417d40    karolinska\n",
      "2  0104f76634ff89bfff1ef0804a95c380       radboud\n",
      "sample\n",
      "                           image_id  isup_grade\n",
      "0  005700be7e06878e6605e7a5a39de1b2           0\n",
      "1  005c6e8877caf724c600fdce5d417d40           0\n",
      "2  0104f76634ff89bfff1ef0804a95c380           0\n",
      "['0+0' '4+4' '3+3' '4+3' 'negative' '4+5' '3+4' '5+4' '5+5' '5+3' '3+5']\n",
      "[0 4 1 3 5 2]\n"
     ]
    }
   ],
   "source": [
    "\n",
    "\n",
    "\n",
    "tt=pd.read_csv('/home/cad429/code/panda/data/train.csv')\n",
    "test=pd.read_csv('/home/cad429/code/panda/data/test.csv')\n",
    "sample=pd.read_csv('/home/cad429/code/panda/data/sample_submission.csv')\n",
    "print(tt.head())\n",
    "print(\"test csv\")\n",
    "print(test.head())\n",
    "print(\"sample\")\n",
    "print(sample.head())\n",
    "\n",
    "\n",
    "print(tt['gleason_score'].unique())\n",
    "print(tt['isup_grade'].unique())"
   ]
  },
  {
   "cell_type": "code",
   "execution_count": 4,
   "metadata": {},
   "outputs": [
    {
     "data": {
      "text/html": [
       "<div>\n",
       "<style scoped>\n",
       "    .dataframe tbody tr th:only-of-type {\n",
       "        vertical-align: middle;\n",
       "    }\n",
       "\n",
       "    .dataframe tbody tr th {\n",
       "        vertical-align: top;\n",
       "    }\n",
       "\n",
       "    .dataframe thead th {\n",
       "        text-align: right;\n",
       "    }\n",
       "</style>\n",
       "<table border=\"1\" class=\"dataframe\">\n",
       "  <thead>\n",
       "    <tr style=\"text-align: right;\">\n",
       "      <th></th>\n",
       "      <th>image_id</th>\n",
       "      <th>data_provider</th>\n",
       "      <th>isup_grade</th>\n",
       "      <th>gleason_score</th>\n",
       "    </tr>\n",
       "  </thead>\n",
       "  <tbody>\n",
       "    <tr>\n",
       "      <th>7273</th>\n",
       "      <td>b0a92a74cb53899311acc30b7405e101</td>\n",
       "      <td>karolinska</td>\n",
       "      <td>2</td>\n",
       "      <td>4+3</td>\n",
       "    </tr>\n",
       "  </tbody>\n",
       "</table>\n",
       "</div>"
      ],
      "text/plain": [
       "                              image_id data_provider  isup_grade gleason_score\n",
       "7273  b0a92a74cb53899311acc30b7405e101    karolinska           2           4+3"
      ]
     },
     "execution_count": 4,
     "metadata": {},
     "output_type": "execute_result"
    }
   ],
   "source": [
    "tt[(tt['isup_grade'] == 2) & (tt['gleason_score'] == '4+3')]"
   ]
  },
  {
   "cell_type": "code",
   "execution_count": 5,
   "metadata": {},
   "outputs": [
    {
     "data": {
      "text/html": [
       "<div>\n",
       "<style scoped>\n",
       "    .dataframe tbody tr th:only-of-type {\n",
       "        vertical-align: middle;\n",
       "    }\n",
       "\n",
       "    .dataframe tbody tr th {\n",
       "        vertical-align: top;\n",
       "    }\n",
       "\n",
       "    .dataframe thead th {\n",
       "        text-align: right;\n",
       "    }\n",
       "</style>\n",
       "<table border=\"1\" class=\"dataframe\">\n",
       "  <thead>\n",
       "    <tr style=\"text-align: right;\">\n",
       "      <th></th>\n",
       "      <th>image_id</th>\n",
       "      <th>data_provider</th>\n",
       "      <th>isup_grade</th>\n",
       "      <th>gleason_score</th>\n",
       "    </tr>\n",
       "  </thead>\n",
       "  <tbody>\n",
       "    <tr>\n",
       "      <th>0</th>\n",
       "      <td>0005f7aaab2800f6170c399693a96917</td>\n",
       "      <td>karolinska</td>\n",
       "      <td>0</td>\n",
       "      <td>0+0</td>\n",
       "    </tr>\n",
       "    <tr>\n",
       "      <th>1</th>\n",
       "      <td>000920ad0b612851f8e01bcc880d9b3d</td>\n",
       "      <td>karolinska</td>\n",
       "      <td>0</td>\n",
       "      <td>0+0</td>\n",
       "    </tr>\n",
       "    <tr>\n",
       "      <th>2</th>\n",
       "      <td>0018ae58b01bdadc8e347995b69f99aa</td>\n",
       "      <td>radboud</td>\n",
       "      <td>4</td>\n",
       "      <td>4+4</td>\n",
       "    </tr>\n",
       "    <tr>\n",
       "      <th>3</th>\n",
       "      <td>001c62abd11fa4b57bf7a6c603a11bb9</td>\n",
       "      <td>karolinska</td>\n",
       "      <td>4</td>\n",
       "      <td>4+4</td>\n",
       "    </tr>\n",
       "    <tr>\n",
       "      <th>4</th>\n",
       "      <td>001d865e65ef5d2579c190a0e0350d8f</td>\n",
       "      <td>karolinska</td>\n",
       "      <td>0</td>\n",
       "      <td>0+0</td>\n",
       "    </tr>\n",
       "  </tbody>\n",
       "</table>\n",
       "</div>"
      ],
      "text/plain": [
       "                           image_id data_provider  isup_grade gleason_score\n",
       "0  0005f7aaab2800f6170c399693a96917    karolinska           0           0+0\n",
       "1  000920ad0b612851f8e01bcc880d9b3d    karolinska           0           0+0\n",
       "2  0018ae58b01bdadc8e347995b69f99aa       radboud           4           4+4\n",
       "3  001c62abd11fa4b57bf7a6c603a11bb9    karolinska           4           4+4\n",
       "4  001d865e65ef5d2579c190a0e0350d8f    karolinska           0           0+0"
      ]
     },
     "execution_count": 5,
     "metadata": {},
     "output_type": "execute_result"
    }
   ],
   "source": [
    "tt['gleason_score'] = tt['gleason_score'].apply(lambda x: \"0+0\" if x==\"negative\" else x)\n",
    "tt.head()"
   ]
  },
  {
   "cell_type": "code",
   "execution_count": 6,
   "metadata": {},
   "outputs": [
    {
     "name": "stdout",
     "output_type": "stream",
     "text": [
      "['0+0' '4+4' '3+3' '4+3' '4+5' '3+4' '5+4' '5+5' '5+3' '3+5']\n"
     ]
    }
   ],
   "source": [
    "print(tt['gleason_score'].unique())"
   ]
  }
 ],
 "metadata": {
  "kernelspec": {
   "display_name": "Python 3",
   "language": "python",
   "name": "python3"
  },
  "language_info": {
   "codemirror_mode": {
    "name": "ipython",
    "version": 3
   },
   "file_extension": ".py",
   "mimetype": "text/x-python",
   "name": "python",
   "nbconvert_exporter": "python",
   "pygments_lexer": "ipython3",
   "version": "3.7.7"
  }
 },
 "nbformat": 4,
 "nbformat_minor": 4
}
